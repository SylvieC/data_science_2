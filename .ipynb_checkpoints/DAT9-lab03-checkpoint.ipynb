{
 "metadata": {
  "name": "",
  "signature": "sha256:ce2787eb3736a4cfd1c1983b76681c594bd9d5ba1d1921a9908e7e6daaaf05d1"
 },
 "nbformat": 3,
 "nbformat_minor": 0,
 "worksheets": [
  {
   "cells": [
    {
     "cell_type": "markdown",
     "metadata": {
      "slideshow": {
       "slide_type": "slide"
      }
     },
     "source": [
      "# GA Data Science 9 (DAT9) - Lab3\n",
      "\n",
      "### KNN, Matplotlib\n"
     ]
    },
    {
     "cell_type": "markdown",
     "metadata": {
      "slideshow": {
       "slide_type": "slide"
      }
     },
     "source": [
      "### Last Time:\n",
      "\n",
      "- Intro to python\n",
      "- Numpy\n",
      "- Pandas\n",
      "\n",
      "\n",
      "#### Questions?"
     ]
    },
    {
     "cell_type": "markdown",
     "metadata": {
      "slideshow": {
       "slide_type": "slide"
      }
     },
     "source": [
      "### Agenda\n",
      "\n",
      "1. Matplotlib\n",
      "2. KNN"
     ]
    },
    {
     "cell_type": "heading",
     "level": 1,
     "metadata": {
      "slideshow": {
       "slide_type": "slide"
      }
     },
     "source": [
      "1. Matplotlib"
     ]
    },
    {
     "cell_type": "code",
     "collapsed": false,
     "input": [
      " from pylab import *"
     ],
     "language": "python",
     "metadata": {},
     "outputs": [],
     "prompt_number": 3
    },
    {
     "cell_type": "markdown",
     "metadata": {},
     "source": [
      "#Initiate pylab inline\n",
      "%matplotlib inline"
     ]
    },
    {
     "cell_type": "code",
     "collapsed": false,
     "input": [
      "# where do we find Machine Learning algorithms in python?\n",
      "\n",
      "# sklearn"
     ],
     "language": "python",
     "metadata": {},
     "outputs": [],
     "prompt_number": 4
    },
    {
     "cell_type": "code",
     "collapsed": false,
     "input": [
      "# make things simple, load a default dataset"
     ],
     "language": "python",
     "metadata": {},
     "outputs": [],
     "prompt_number": 5
    },
    {
     "cell_type": "code",
     "collapsed": false,
     "input": [
      "from sklearn import datasets"
     ],
     "language": "python",
     "metadata": {},
     "outputs": [],
     "prompt_number": 1
    },
    {
     "cell_type": "code",
     "collapsed": false,
     "input": [
      "# from the datasets load the iris data into a variable called iris"
     ],
     "language": "python",
     "metadata": {},
     "outputs": [],
     "prompt_number": 2
    },
    {
     "cell_type": "code",
     "collapsed": false,
     "input": [],
     "language": "python",
     "metadata": {},
     "outputs": []
    },
    {
     "cell_type": "code",
     "collapsed": false,
     "input": [
      "iris = datasets.load_iris()"
     ],
     "language": "python",
     "metadata": {},
     "outputs": [],
     "prompt_number": 8
    },
    {
     "cell_type": "code",
     "collapsed": false,
     "input": [
      "# what does iris look like? discussion"
     ],
     "language": "python",
     "metadata": {},
     "outputs": [],
     "prompt_number": 9
    },
    {
     "cell_type": "code",
     "collapsed": false,
     "input": [
      "iris"
     ],
     "language": "python",
     "metadata": {},
     "outputs": []
    },
    {
     "cell_type": "markdown",
     "metadata": {},
     "source": [
      "## Lets display that data"
     ]
    },
    {
     "cell_type": "code",
     "collapsed": false,
     "input": [
      "from matplotlib import pyplot as plt\n",
      "import numpy as np\n",
      "from matplotlib.ticker import MultipleLocator, FormatStrFormatter\n",
      "#"
     ],
     "language": "python",
     "metadata": {},
     "outputs": [],
     "prompt_number": 11
    },
    {
     "cell_type": "code",
     "collapsed": false,
     "input": [
      "# Load the data with load_iris from sklearn\n",
      "X = iris['data']\n",
      "Names = iris['feature_names']\n",
      "y = iris['target']"
     ],
     "language": "python",
     "metadata": {},
     "outputs": [],
     "prompt_number": 12
    },
    {
     "cell_type": "code",
     "collapsed": false,
     "input": [
      "# Instantiate the top-level figure for this plotting exercise - you have to do that first\n",
      "fig = plt.figure(0)"
     ],
     "language": "python",
     "metadata": {},
     "outputs": [],
     "prompt_number": 13
    },
    {
     "cell_type": "code",
     "collapsed": false,
     "input": [
      "# Instantiate our six subplots. Note that context will be set to the last one by default.\n",
      "ax1 = fig.add_subplot(2,3,1)\n",
      "ax2 = fig.add_subplot(2,3,2)\n",
      "ax3 = fig.add_subplot(2,3,3)\n",
      "ax4 = fig.add_subplot(2,3,4)\n",
      "ax5 = fig.add_subplot(2,3,5)\n",
      "ax6 = fig.add_subplot(2,3,6)"
     ],
     "language": "python",
     "metadata": {},
     "outputs": [],
     "prompt_number": 14
    },
    {
     "cell_type": "code",
     "collapsed": false,
     "input": [
      "# Title our figure. This is a different command than titling an individual subplot.\n",
      "fig.suptitle('Subplots demo with Iris Data', fontsize=14)"
     ],
     "language": "python",
     "metadata": {},
     "outputs": [
      {
       "metadata": {},
       "output_type": "pyout",
       "prompt_number": 15,
       "text": [
        "<matplotlib.text.Text at 0x107218f90>"
       ]
      }
     ],
     "prompt_number": 15
    },
    {
     "cell_type": "code",
     "collapsed": false,
     "input": [
      "# Sets the number of decimal places in our y-axis tick labels\n",
      "majorFormatter = FormatStrFormatter('%1.1f')"
     ],
     "language": "python",
     "metadata": {},
     "outputs": [],
     "prompt_number": 16
    },
    {
     "cell_type": "code",
     "collapsed": false,
     "input": [
      "majorFormatter"
     ],
     "language": "python",
     "metadata": {},
     "outputs": [
      {
       "metadata": {},
       "output_type": "pyout",
       "prompt_number": 17,
       "text": [
        "<matplotlib.ticker.FormatStrFormatter at 0x107231890>"
       ]
      }
     ],
     "prompt_number": 17
    },
    {
     "cell_type": "code",
     "collapsed": false,
     "input": [
      "# Loop through our subplots and set font sizes\n",
      "# HINT: plt.gcf().axes gets all the axes for our current figure\n",
      "all_axes = plt.gcf().axes\n",
      "for ax in all_axes:\n",
      "    ax.yaxis.set_major_formatter(majorFormatter)\n",
      "    for ticklabel in ax.get_xticklabels() + ax.get_yticklabels():\n",
      "        ticklabel.set_fontsize(6)"
     ],
     "language": "python",
     "metadata": {},
     "outputs": [],
     "prompt_number": 18
    },
    {
     "cell_type": "code",
     "collapsed": false,
     "input": [
      "# Plot and format first subplot. We could make this a loop, but doing it manually for each\n",
      "#  is more readable for learning purposes.\n",
      "for t,marker,c in zip(range(3),\">ox\",\"rgb\") :\n",
      "    # We plot each class on its own to get different colored markers\n",
      "    ax1.scatter(X[y == t,0],\n",
      "                X[y == t,1],\n",
      "                marker=marker,\n",
      "                c=c)\n",
      "    ax1.set_xlabel(Names[0], fontsize=8)\n",
      "    ax1.set_ylabel(Names[1], fontsize=8)"
     ],
     "language": "python",
     "metadata": {},
     "outputs": [],
     "prompt_number": 19
    },
    {
     "cell_type": "code",
     "collapsed": false,
     "input": [
      "# Plot and format second subplot. We could make this a loop, but doing it manually for each\n",
      "#  is more readable for learning purposes.\n",
      "\n",
      "for t,marker,c in zip(xrange(3),\">ox\",\"rgb\") :\n",
      "    ax2.scatter(X[y == t,0],\n",
      "                X[y == t,2],\n",
      "                marker=marker,\n",
      "                c=c)\n",
      "    ax2.set_xlabel(Names[0], fontsize=8)\n",
      "    ax2.set_ylabel(Names[2], fontsize=8)"
     ],
     "language": "python",
     "metadata": {},
     "outputs": [],
     "prompt_number": 20
    },
    {
     "cell_type": "code",
     "collapsed": false,
     "input": [
      "# Plot and format third subplot. We could make this a loop, but doing it manually for each\n",
      "#  is more readable for learning purposes.\n",
      "\n",
      "for t,marker,c in zip(xrange(3),\">ox\",\"rgb\") :\n",
      "    ax3.scatter(X[y == t,0],\n",
      "                X[y == t,3],\n",
      "                marker=marker,\n",
      "                c=c)\n",
      "    ax3.set_xlabel(Names[0], fontsize=8)\n",
      "    ax3.set_ylabel(Names[3], fontsize=8)"
     ],
     "language": "python",
     "metadata": {},
     "outputs": [],
     "prompt_number": 21
    },
    {
     "cell_type": "code",
     "collapsed": false,
     "input": [
      "# Plot and format fourth subplot. We could make this a loop, but doing it manually for each\n",
      "#  is more readable for learning purposes.\n",
      "\n",
      "for t,marker,c in zip(xrange(3),\">ox\",\"rgb\") :\n",
      "    ax4.scatter(X[y == t,1],\n",
      "                X[y == t,2],\n",
      "                marker=marker,\n",
      "                c=c)\n",
      "    ax4.set_xlabel(Names[1], fontsize=8)\n",
      "    ax4.set_ylabel(Names[2], fontsize=8)"
     ],
     "language": "python",
     "metadata": {},
     "outputs": [],
     "prompt_number": 22
    },
    {
     "cell_type": "code",
     "collapsed": false,
     "input": [
      "# Plot and format fifth subplot. We could make this a loop, but doing it manually for each\n",
      "#  is more readable for learning purposes.\n",
      "\n",
      "for t,marker,c in zip(xrange(3),\">ox\",\"rgb\") :\n",
      "    ax5.scatter(X[y == t,1],\n",
      "                X[y == t,3],\n",
      "                marker=marker,\n",
      "                c=c)\n",
      "    ax5.set_xlabel(Names[1], fontsize=8)\n",
      "    ax5.set_ylabel(Names[3], fontsize=8)"
     ],
     "language": "python",
     "metadata": {},
     "outputs": [],
     "prompt_number": 23
    },
    {
     "cell_type": "code",
     "collapsed": false,
     "input": [
      "# Plot and format sixth subplot. We could make this a loop, but doing it manually for each\n",
      "#  is more readable for learning purposes.\n",
      "\n",
      "for t,marker,c in zip(xrange(3),\">ox\",\"rgb\") :\n",
      "    ax6.scatter(X[y == t,2],\n",
      "                X[y == t,3],\n",
      "                marker=marker,\n",
      "                c=c)\n",
      "    ax6.set_xlabel(Names[2], fontsize=8)\n",
      "    ax6.set_ylabel(Names[3], fontsize=8)\n",
      "\n",
      "# Save our figure with subplots as one file\n",
      "plt.savefig('iris_plot_combined.png')"
     ],
     "language": "python",
     "metadata": {},
     "outputs": [],
     "prompt_number": 24
    },
    {
     "cell_type": "code",
     "collapsed": false,
     "input": [
      "plt.show()"
     ],
     "language": "python",
     "metadata": {},
     "outputs": [],
     "prompt_number": 45
    },
    {
     "cell_type": "markdown",
     "metadata": {},
     "source": [
      "## Let's do it with Pandas"
     ]
    },
    {
     "cell_type": "code",
     "collapsed": false,
     "input": [
      "import matplotlib.pyplot as plt\n",
      "import numpy as np"
     ],
     "language": "python",
     "metadata": {},
     "outputs": [],
     "prompt_number": 48
    },
    {
     "cell_type": "code",
     "collapsed": false,
     "input": [
      "# move iris data to pandas\n",
      "import pandas as pd\n",
      "df = pd.DataFrame(data=X, \n",
      "    columns= ['SepalLength',\n",
      "              'SepalWidth',\n",
      "              'PetalLength',\n",
      "              'PetalWidth'])\n",
      "df['Target'] = y\n",
      "df['Name'] = iris.target_names[y]\n",
      "\n",
      "df.head()"
     ],
     "language": "python",
     "metadata": {},
     "outputs": [
      {
       "html": [
        "<div style=\"max-height:1000px;max-width:1500px;overflow:auto;\">\n",
        "<table border=\"1\" class=\"dataframe\">\n",
        "  <thead>\n",
        "    <tr style=\"text-align: right;\">\n",
        "      <th></th>\n",
        "      <th>SepalLength</th>\n",
        "      <th>SepalWidth</th>\n",
        "      <th>PetalLength</th>\n",
        "      <th>PetalWidth</th>\n",
        "      <th>Target</th>\n",
        "      <th>Name</th>\n",
        "    </tr>\n",
        "  </thead>\n",
        "  <tbody>\n",
        "    <tr>\n",
        "      <th>0</th>\n",
        "      <td> 5.1</td>\n",
        "      <td> 3.5</td>\n",
        "      <td> 1.4</td>\n",
        "      <td> 0.2</td>\n",
        "      <td> 0</td>\n",
        "      <td> setosa</td>\n",
        "    </tr>\n",
        "    <tr>\n",
        "      <th>1</th>\n",
        "      <td> 4.9</td>\n",
        "      <td> 3.0</td>\n",
        "      <td> 1.4</td>\n",
        "      <td> 0.2</td>\n",
        "      <td> 0</td>\n",
        "      <td> setosa</td>\n",
        "    </tr>\n",
        "    <tr>\n",
        "      <th>2</th>\n",
        "      <td> 4.7</td>\n",
        "      <td> 3.2</td>\n",
        "      <td> 1.3</td>\n",
        "      <td> 0.2</td>\n",
        "      <td> 0</td>\n",
        "      <td> setosa</td>\n",
        "    </tr>\n",
        "    <tr>\n",
        "      <th>3</th>\n",
        "      <td> 4.6</td>\n",
        "      <td> 3.1</td>\n",
        "      <td> 1.5</td>\n",
        "      <td> 0.2</td>\n",
        "      <td> 0</td>\n",
        "      <td> setosa</td>\n",
        "    </tr>\n",
        "    <tr>\n",
        "      <th>4</th>\n",
        "      <td> 5.0</td>\n",
        "      <td> 3.6</td>\n",
        "      <td> 1.4</td>\n",
        "      <td> 0.2</td>\n",
        "      <td> 0</td>\n",
        "      <td> setosa</td>\n",
        "    </tr>\n",
        "  </tbody>\n",
        "</table>\n",
        "</div>"
       ],
       "metadata": {},
       "output_type": "pyout",
       "prompt_number": 49,
       "text": [
        "   SepalLength  SepalWidth  PetalLength  PetalWidth  Target    Name\n",
        "0          5.1         3.5          1.4         0.2       0  setosa\n",
        "1          4.9         3.0          1.4         0.2       0  setosa\n",
        "2          4.7         3.2          1.3         0.2       0  setosa\n",
        "3          4.6         3.1          1.5         0.2       0  setosa\n",
        "4          5.0         3.6          1.4         0.2       0  setosa"
       ]
      }
     ],
     "prompt_number": 49
    },
    {
     "cell_type": "markdown",
     "metadata": {},
     "source": [
      "# 2. KNN"
     ]
    },
    {
     "cell_type": "code",
     "collapsed": false,
     "input": [
      "# let's re-assign the data to standard named variables"
     ],
     "language": "python",
     "metadata": {},
     "outputs": [],
     "prompt_number": 28
    },
    {
     "cell_type": "code",
     "collapsed": false,
     "input": [
      "X = iris.data\n",
      "y = iris.target\n",
      "Names = iris.target_names"
     ],
     "language": "python",
     "metadata": {},
     "outputs": [],
     "prompt_number": 50
    },
    {
     "cell_type": "code",
     "collapsed": false,
     "input": [
      "# split the data into training set and test set"
     ],
     "language": "python",
     "metadata": {},
     "outputs": [],
     "prompt_number": 30
    },
    {
     "cell_type": "code",
     "collapsed": false,
     "input": [
      "# is there a function to do that in sklearn?\n",
      "from sklearn.cross_validation import train_test_split"
     ],
     "language": "python",
     "metadata": {},
     "outputs": [],
     "prompt_number": 51
    },
    {
     "cell_type": "code",
     "collapsed": false,
     "input": [
      "X_train, X_test, y_train, y_test = train_test_split( X, y, test_size=0.20, random_state=0)"
     ],
     "language": "python",
     "metadata": {},
     "outputs": [],
     "prompt_number": 53
    },
    {
     "cell_type": "code",
     "collapsed": false,
     "input": [
      "# Train KNN classifier defined function on the train data\n",
      "from sklearn.neighbors import KNeighborsClassifier"
     ],
     "language": "python",
     "metadata": {},
     "outputs": [],
     "prompt_number": 54
    },
    {
     "cell_type": "code",
     "collapsed": false,
     "input": [
      "myknn = KNeighborsClassifier(3).fit(X_train,y_train)"
     ],
     "language": "python",
     "metadata": {},
     "outputs": [],
     "prompt_number": 55
    },
    {
     "cell_type": "code",
     "collapsed": false,
     "input": [
      "myknn.score(X_test, y_test)"
     ],
     "language": "python",
     "metadata": {},
     "outputs": [
      {
       "metadata": {},
       "output_type": "pyout",
       "prompt_number": 56,
       "text": [
        "0.96666666666666667"
       ]
      }
     ],
     "prompt_number": 56
    },
    {
     "cell_type": "markdown",
     "metadata": {},
     "source": [
      "## Cross Validation"
     ]
    },
    {
     "cell_type": "code",
     "collapsed": false,
     "input": [
      "from sklearn.cross_validation import KFold"
     ],
     "language": "python",
     "metadata": {},
     "outputs": [],
     "prompt_number": 60
    },
    {
     "cell_type": "markdown",
     "metadata": {},
     "source": [
      "### A way to do Cross Validation"
     ]
    },
    {
     "cell_type": "code",
     "collapsed": false,
     "input": [
      "# generic cross validation function  in this case, classifier is myknn\n",
      "def cross_validate(X, y, classifier, k_fold) :\n",
      "\n",
      "    # derive a set of (random) training and testing indices\n",
      "    k_fold_indices = KFold( len(X), n_folds=k_fold,\n",
      "                           indices=True, shuffle=True,\n",
      "                           random_state=0)\n",
      "\n",
      "    k_score_total = 0\n",
      "    # for each training and testing slices run the classifier, and score the results\n",
      "    for train_slice, test_slice in k_fold_indices :\n",
      "\n",
      "        model = classifier(X[[ train_slice  ]],\n",
      "                         y[[ train_slice  ]])\n",
      "\n",
      "        k_score = model.score(X[[ test_slice ]],\n",
      "                              y[[ test_slice ]])\n",
      "\n",
      "        k_score_total += k_score\n",
      "\n",
      "    # return the average accuracy\n",
      "    return k_score_total/k_fold"
     ],
     "language": "python",
     "metadata": {},
     "outputs": [],
     "prompt_number": 37
    },
    {
     "cell_type": "code",
     "collapsed": false,
     "input": [
      "cross_validate(X, y, KNeighborsClassifier(3).fit, 10)"
     ],
     "language": "python",
     "metadata": {},
     "outputs": [
      {
       "metadata": {},
       "output_type": "pyout",
       "prompt_number": 38,
       "text": [
        "0.95999999999999996"
       ]
      }
     ],
     "prompt_number": 38
    },
    {
     "cell_type": "markdown",
     "metadata": {},
     "source": [
      "### Another way to do Cross Validation"
     ]
    },
    {
     "cell_type": "code",
     "collapsed": false,
     "input": [
      "n_samples = len(y)"
     ],
     "language": "python",
     "metadata": {},
     "outputs": [],
     "prompt_number": 39
    },
    {
     "cell_type": "code",
     "collapsed": false,
     "input": [
      "from sklearn.cross_validation import ShuffleSplit\n",
      "\n",
      "cv = ShuffleSplit(n_samples, n_iter=3, test_size=0.1,\n",
      "    random_state=0)\n",
      "\n",
      "for cv_index, (train, test) in enumerate(cv):\n",
      "    print(\"# Cross Validation Iteration #%d\" % cv_index)\n",
      "    print(\"train indices: {0}...\".format(train[:10]))\n",
      "    print(\"test indices: {0}...\".format(test[:10]))\n",
      "    \n",
      "    myknn = KNeighborsClassifier(3).fit(X[train], y[train])\n",
      "    print(\"train score: {0:.3f}, test score: {1:.3f}\\n\".format(\n",
      "        myknn.score(X[train], y[train]), myknn.score(X[test], y[test])))"
     ],
     "language": "python",
     "metadata": {},
     "outputs": [
      {
       "output_type": "stream",
       "stream": "stdout",
       "text": [
        "# Cross Validation Iteration #0\n",
        "train indices: [ 37  78  90  45  16 121  66  24   8 126]...\n",
        "test indices: [114  62  33 107   7 100  40  86  76  71]...\n",
        "train score: 0.956, test score: 1.000\n",
        "\n",
        "# Cross Validation Iteration #1\n",
        "train indices: [148   6  65  47  68  60  15 124  58 142]...\n",
        "test indices: [ 92 141 130 119  48 143 122  63  26  64]...\n",
        "train score: 0.963, test score: 0.933\n",
        "\n",
        "# Cross Validation Iteration #2\n",
        "train indices: [ 62  76  69  46 129   1  10   3  95  21]...\n",
        "test indices: [ 85 137  77 108 122 104 121  12  31  96]...\n",
        "train score: 0.963, test score: 0.933\n",
        "\n"
       ]
      }
     ],
     "prompt_number": 40
    },
    {
     "cell_type": "markdown",
     "metadata": {},
     "source": [
      "### The Simplest way to do Cross Validation"
     ]
    },
    {
     "cell_type": "code",
     "collapsed": false,
     "input": [
      "from sklearn.cross_validation import cross_val_score, ShuffleSplit\n",
      "\n",
      "n_samples = len(y)\n",
      "knn = KNeighborsClassifier(3)\n",
      "cv = ShuffleSplit(n_samples, n_iter=10, test_size=0.3, random_state=0)\n",
      "\n",
      "test_scores = cross_val_score(knn, X, y, cv=cv)\n",
      "test_scores.mean()"
     ],
     "language": "python",
     "metadata": {},
     "outputs": [
      {
       "metadata": {},
       "output_type": "pyout",
       "prompt_number": 41,
       "text": [
        "0.9622222222222222"
       ]
      }
     ],
     "prompt_number": 41
    },
    {
     "cell_type": "code",
     "collapsed": false,
     "input": [],
     "language": "python",
     "metadata": {},
     "outputs": [],
     "prompt_number": 41
    }
   ],
   "metadata": {}
  }
 ]
}