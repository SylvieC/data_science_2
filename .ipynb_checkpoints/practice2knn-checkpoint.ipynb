{
 "metadata": {
  "name": "",
  "signature": "sha256:3370f3a577e1ac0e3665f24ce9ee4cf732bfd4ee3bc6edabbc0b7ad4106d2687"
 },
 "nbformat": 3,
 "nbformat_minor": 0,
 "worksheets": []
}